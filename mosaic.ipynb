{
 "cells": [
  {
   "cell_type": "code",
   "execution_count": 6,
   "metadata": {},
   "outputs": [],
   "source": [
    "import pandas as pd\n",
    "import finder"
   ]
  },
  {
   "cell_type": "code",
   "execution_count": 7,
   "metadata": {},
   "outputs": [],
   "source": [
    "def findAverageImageColor(image):\n",
    "  r_sum = 0\n",
    "  g_sum = 0\n",
    "  b_sum = 0\n",
    "  for x in range(len(image)):\n",
    "    for y in range(len(image[0])):\n",
    "      pixel = image[x][y]\n",
    "      r_sum += pixel[0]\n",
    "      g_sum += pixel[1]\n",
    "      b_sum += pixel[2]\n",
    "  count = len(image) * len(image[0])\n",
    "\n",
    "  \n",
    "  return {\"avg_r\": r_sum / count, \"avg_g\": g_sum / count, \"avg_b\": b_sum / count}"
   ]
  },
  {
   "cell_type": "code",
   "execution_count": 8,
   "metadata": {},
   "outputs": [],
   "source": [
    "def createTilesDataFrame(path):\n",
    "  data = []\n",
    "\n",
    "  # Loop through all images in the `path` directory:\n",
    "  for tileImageFileName in finder.listTileImagesInPath(path):\n",
    "    # Load the image as a DataFrame and find the average color:\n",
    "    image = finder.loadImage(tileImageFileName)\n",
    "    averageColor = findAverageImageColor(image)\n",
    "\n",
    "    # Store the fileName and average colors in a dictionary:\n",
    "    d = { \"fileName\": tileImageFileName, \"r\": averageColor[\"avg_r\"], \"g\": averageColor[\"avg_g\"], \"b\": averageColor[\"avg_b\"] }\n",
    "    data.append(d)\n",
    "    \n",
    "  # Create the `df_tiles` DataFrame:\n",
    "  df_tiles = pd.DataFrame(data)\n",
    "  return df_tiles"
   ]
  },
  {
   "cell_type": "code",
   "execution_count": 9,
   "metadata": {},
   "outputs": [],
   "source": [
    "def findAverageImageColorInBox(image, box_x, box_y, box_width, box_height):\n",
    "  r_sum = 0\n",
    "  g_sum = 0\n",
    "  b_sum = 0\n",
    "  for x in range(box_width):\n",
    "    for y in range(box_height):\n",
    "      pixel = image[box_x + x][box_y + y]\n",
    "      r_sum += pixel[0]\n",
    "      g_sum += pixel[1]\n",
    "      b_sum += pixel[2]\n",
    "  count = (box_width) * (box_height)\n",
    "\n",
    "  return {\"avg_r\": r_sum / count, \"avg_g\": g_sum / count, \"avg_b\": b_sum / count}"
   ]
  },
  {
   "cell_type": "code",
   "execution_count": 10,
   "metadata": {},
   "outputs": [],
   "source": [
    "import math\n",
    "\n",
    "def findBestTile(df_tiles, r_avg, g_avg, b_avg):\n",
    "  for i in df_tiles:\n",
    "    dist = (((df_tiles[\"r\"] - r_avg)**2) + ((df_tiles[\"g\"] - g_avg)**2) + ((df_tiles[\"b\"] - b_avg)**2))**.5\n",
    "    df_tiles[\"dist\"] = dist\n",
    "\n",
    "  return df_tiles.nsmallest(1, \"dist\")"
   ]
  },
  {
   "cell_type": "code",
   "execution_count": 11,
   "metadata": {},
   "outputs": [],
   "source": [
    "# What is your base image file name?\n",
    "baseImageFileName = \"my_cute_dog.jpeg\"\n",
    "\n",
    "# What folder contains your tile images?\n",
    "# - You can change this so you can have multiple different folders of tile images.\n",
    "tileImageFolder = \"illinois-instagram-images\"\n",
    "\n",
    "# What is the maximum number of tiles should your mosaic use across?\n",
    "# - More tiles across will increase the quality of the final image.\n",
    "# - More tiles across will cause your program to run slower.\n",
    "maximumTilesX = 200\n",
    "# What height should your tiles be in your mosaic?\n",
    "# - A larger tile image will result in a larger output file.\n",
    "# - A larger tile image will result in your program running slower.\n",
    "# - A larger tile image will result in more detail in the output file.\n",
    "tileHeight = 32"
   ]
  },
  {
   "cell_type": "code",
   "execution_count": 12,
   "metadata": {},
   "outputs": [
    {
     "name": "stdout",
     "output_type": "stream",
     "text": [
      "Creating `df_tiles` from tile images in folder `illinois-instagram-images`...\n"
     ]
    },
    {
     "ename": "FileNotFoundError",
     "evalue": "[Errno 2] No such file or directory: 'illinois-instagram-images/'",
     "output_type": "error",
     "traceback": [
      "\u001b[0;31m---------------------------------------------------------------------------\u001b[0m",
      "\u001b[0;31mFileNotFoundError\u001b[0m                         Traceback (most recent call last)",
      "\u001b[1;32m/Users/marcusmyrick/Desktop/Python_Mosaic/mosaic.ipynb Cell 7'\u001b[0m in \u001b[0;36m<module>\u001b[0;34m\u001b[0m\n\u001b[1;32m      <a href='vscode-notebook-cell:/Users/marcusmyrick/Desktop/Python_Mosaic/mosaic.ipynb#ch0000006?line=0'>1</a>\u001b[0m \u001b[39mprint\u001b[39m(\u001b[39mf\u001b[39m\u001b[39m\"\u001b[39m\u001b[39mCreating `df_tiles` from tile images in folder `\u001b[39m\u001b[39m{\u001b[39;00mtileImageFolder\u001b[39m}\u001b[39;00m\u001b[39m`...\u001b[39m\u001b[39m\"\u001b[39m)\n\u001b[0;32m----> <a href='vscode-notebook-cell:/Users/marcusmyrick/Desktop/Python_Mosaic/mosaic.ipynb#ch0000006?line=1'>2</a>\u001b[0m df_tiles \u001b[39m=\u001b[39m createTilesDataFrame(tileImageFolder)\n\u001b[1;32m      <a href='vscode-notebook-cell:/Users/marcusmyrick/Desktop/Python_Mosaic/mosaic.ipynb#ch0000006?line=2'>3</a>\u001b[0m \u001b[39mprint\u001b[39m(\u001b[39mf\u001b[39m\u001b[39m\"\u001b[39m\u001b[39m...found \u001b[39m\u001b[39m{\u001b[39;00m\u001b[39mlen\u001b[39m(df_tiles)\u001b[39m}\u001b[39;00m\u001b[39m tile images!\u001b[39m\u001b[39m\"\u001b[39m)\n\u001b[1;32m      <a href='vscode-notebook-cell:/Users/marcusmyrick/Desktop/Python_Mosaic/mosaic.ipynb#ch0000006?line=3'>4</a>\u001b[0m df_tiles\n",
      "\u001b[1;32m/Users/marcusmyrick/Desktop/Python_Mosaic/mosaic.ipynb Cell 3'\u001b[0m in \u001b[0;36mcreateTilesDataFrame\u001b[0;34m(path)\u001b[0m\n\u001b[1;32m      <a href='vscode-notebook-cell:/Users/marcusmyrick/Desktop/Python_Mosaic/mosaic.ipynb#ch0000002?line=1'>2</a>\u001b[0m data \u001b[39m=\u001b[39m []\n\u001b[1;32m      <a href='vscode-notebook-cell:/Users/marcusmyrick/Desktop/Python_Mosaic/mosaic.ipynb#ch0000002?line=3'>4</a>\u001b[0m \u001b[39m# Loop through all images in the `path` directory:\u001b[39;00m\n\u001b[0;32m----> <a href='vscode-notebook-cell:/Users/marcusmyrick/Desktop/Python_Mosaic/mosaic.ipynb#ch0000002?line=4'>5</a>\u001b[0m \u001b[39mfor\u001b[39;00m tileImageFileName \u001b[39min\u001b[39;00m finder\u001b[39m.\u001b[39;49mlistTileImagesInPath(path):\n\u001b[1;32m      <a href='vscode-notebook-cell:/Users/marcusmyrick/Desktop/Python_Mosaic/mosaic.ipynb#ch0000002?line=5'>6</a>\u001b[0m   \u001b[39m# Load the image as a DataFrame and find the average color:\u001b[39;00m\n\u001b[1;32m      <a href='vscode-notebook-cell:/Users/marcusmyrick/Desktop/Python_Mosaic/mosaic.ipynb#ch0000002?line=6'>7</a>\u001b[0m   image \u001b[39m=\u001b[39m finder\u001b[39m.\u001b[39mloadImage(tileImageFileName)\n\u001b[1;32m      <a href='vscode-notebook-cell:/Users/marcusmyrick/Desktop/Python_Mosaic/mosaic.ipynb#ch0000002?line=7'>8</a>\u001b[0m   averageColor \u001b[39m=\u001b[39m findAverageImageColor(image)\n",
      "File \u001b[0;32m~/Desktop/Python_Mosaic/finder.py:70\u001b[0m, in \u001b[0;36mlistTileImagesInPath\u001b[0;34m(path)\u001b[0m\n\u001b[1;32m     <a href='file:///Users/marcusmyrick/Desktop/Python_Mosaic/finder.py?line=66'>67</a>\u001b[0m \u001b[39mfrom\u001b[39;00m \u001b[39mos\u001b[39;00m\u001b[39m.\u001b[39;00m\u001b[39mpath\u001b[39;00m \u001b[39mimport\u001b[39;00m isfile, join\n\u001b[1;32m     <a href='file:///Users/marcusmyrick/Desktop/Python_Mosaic/finder.py?line=68'>69</a>\u001b[0m files \u001b[39m=\u001b[39m []\n\u001b[0;32m---> <a href='file:///Users/marcusmyrick/Desktop/Python_Mosaic/finder.py?line=69'>70</a>\u001b[0m \u001b[39mfor\u001b[39;00m f \u001b[39min\u001b[39;00m listdir(path \u001b[39m+\u001b[39;49m \u001b[39m\"\u001b[39;49m\u001b[39m/\u001b[39;49m\u001b[39m\"\u001b[39;49m):\n\u001b[1;32m     <a href='file:///Users/marcusmyrick/Desktop/Python_Mosaic/finder.py?line=70'>71</a>\u001b[0m   file \u001b[39m=\u001b[39m join(path \u001b[39m+\u001b[39m \u001b[39m\"\u001b[39m\u001b[39m/\u001b[39m\u001b[39m\"\u001b[39m, f)\n\u001b[1;32m     <a href='file:///Users/marcusmyrick/Desktop/Python_Mosaic/finder.py?line=71'>72</a>\u001b[0m   \u001b[39mif\u001b[39;00m isfile(file) \u001b[39mand\u001b[39;00m isImageFile(file):\n",
      "\u001b[0;31mFileNotFoundError\u001b[0m: [Errno 2] No such file or directory: 'illinois-instagram-images/'"
     ]
    }
   ],
   "source": [
    "print(f\"Creating `df_tiles` from tile images in folder `{tileImageFolder}`...\")\n",
    "df_tiles = createTilesDataFrame(tileImageFolder)\n",
    "print(f\"...found {len(df_tiles)} tile images!\")\n",
    "df_tiles"
   ]
  },
  {
   "cell_type": "code",
   "execution_count": 13,
   "metadata": {},
   "outputs": [
    {
     "name": "stdout",
     "output_type": "stream",
     "text": [
      "Loading your base image `my_cute_dog.jpeg`...\n",
      "Finding best replacement image for each tile...\n"
     ]
    },
    {
     "ename": "NameError",
     "evalue": "name 'df_tiles' is not defined",
     "output_type": "error",
     "traceback": [
      "\u001b[0;31m---------------------------------------------------------------------------\u001b[0m",
      "\u001b[0;31mNameError\u001b[0m                                 Traceback (most recent call last)",
      "\u001b[1;32m/Users/marcusmyrick/Desktop/Python_Mosaic/mosaic.ipynb Cell 8'\u001b[0m in \u001b[0;36m<module>\u001b[0;34m\u001b[0m\n\u001b[1;32m     <a href='vscode-notebook-cell:/Users/marcusmyrick/Desktop/Python_Mosaic/mosaic.ipynb#ch0000007?line=21'>22</a>\u001b[0m \u001b[39mfor\u001b[39;00m y \u001b[39min\u001b[39;00m \u001b[39mrange\u001b[39m(\u001b[39m0\u001b[39m, height, pixelsPerTile):\n\u001b[1;32m     <a href='vscode-notebook-cell:/Users/marcusmyrick/Desktop/Python_Mosaic/mosaic.ipynb#ch0000007?line=22'>23</a>\u001b[0m   avg_color \u001b[39m=\u001b[39m findAverageImageColorInBox(baseImage, x, y, pixelsPerTile, pixelsPerTile)\n\u001b[0;32m---> <a href='vscode-notebook-cell:/Users/marcusmyrick/Desktop/Python_Mosaic/mosaic.ipynb#ch0000007?line=23'>24</a>\u001b[0m   replacement \u001b[39m=\u001b[39m findBestTile(df_tiles, avg_color[\u001b[39m\"\u001b[39m\u001b[39mavg_r\u001b[39m\u001b[39m\"\u001b[39m], avg_color[\u001b[39m\"\u001b[39m\u001b[39mavg_g\u001b[39m\u001b[39m\"\u001b[39m], avg_color[\u001b[39m\"\u001b[39m\u001b[39mavg_b\u001b[39m\u001b[39m\"\u001b[39m])\n\u001b[1;32m     <a href='vscode-notebook-cell:/Users/marcusmyrick/Desktop/Python_Mosaic/mosaic.ipynb#ch0000007?line=25'>26</a>\u001b[0m   tile \u001b[39m=\u001b[39m finder\u001b[39m.\u001b[39mgetTileImage(replacement[\u001b[39m\"\u001b[39m\u001b[39mfileName\u001b[39m\u001b[39m\"\u001b[39m]\u001b[39m.\u001b[39mvalues[\u001b[39m0\u001b[39m], tileHeight)\n\u001b[1;32m     <a href='vscode-notebook-cell:/Users/marcusmyrick/Desktop/Python_Mosaic/mosaic.ipynb#ch0000007?line=26'>27</a>\u001b[0m   mosaic\u001b[39m.\u001b[39mpaste(tile, (\u001b[39mint\u001b[39m(x \u001b[39m/\u001b[39m pixelsPerTile) \u001b[39m*\u001b[39m tileHeight, \u001b[39mint\u001b[39m(y \u001b[39m/\u001b[39m pixelsPerTile) \u001b[39m*\u001b[39m tileHeight))\n",
      "\u001b[0;31mNameError\u001b[0m: name 'df_tiles' is not defined"
     ]
    }
   ],
   "source": [
    "import sys\n",
    "print(f\"Loading your base image `{baseImageFileName}`...\")\n",
    "baseImage = finder.loadImage(baseImageFileName)\n",
    "width = len(baseImage)\n",
    "height = len(baseImage[0])\n",
    "\n",
    "\n",
    "print(f\"Finding best replacement image for each tile...\")\n",
    "# Find the pixelsPerTile to know the pixels used in the base image per mosaic tile:\n",
    "import math\n",
    "\n",
    "pixelsPerTile = int(math.ceil(width / maximumTilesX))\n",
    "width = int(math.floor(width / pixelsPerTile) * pixelsPerTile)\n",
    "height = int(math.floor(height / pixelsPerTile) * pixelsPerTile)\n",
    "tilesX = int(width / pixelsPerTile)\n",
    "tilesY = int(height / pixelsPerTile)\n",
    "\n",
    "# Create the mosaic:\n",
    "from PIL import Image\n",
    "mosaic = Image.new('RGB', (int(tilesX * tileHeight), int(tilesY * tileHeight)))\n",
    "for x in range(0, width, pixelsPerTile):\n",
    "  for y in range(0, height, pixelsPerTile):\n",
    "    avg_color = findAverageImageColorInBox(baseImage, x, y, pixelsPerTile, pixelsPerTile)\n",
    "    replacement = findBestTile(df_tiles, avg_color[\"avg_r\"], avg_color[\"avg_g\"], avg_color[\"avg_b\"])\n",
    "\n",
    "    tile = finder.getTileImage(replacement[\"fileName\"].values[0], tileHeight)\n",
    "    mosaic.paste(tile, (int(x / pixelsPerTile) * tileHeight, int(y / pixelsPerTile) * tileHeight))\n",
    "\n",
    "  # Print out a progress message:\n",
    "  curRow = int((x / pixelsPerTile) + 1)\n",
    "  pct = (curRow / tilesX) * 100\n",
    "  sys.stdout.write(f'\\r  ...progress: {curRow * tilesY} / {tilesX * tilesY} ({pct:.2f}%)')\n",
    "\n",
    "# Save it\n",
    "mosaic.save('mosaic-hd.jpg')\n",
    "\n",
    "# Save a smaller one (for posting):\n",
    "import PIL\n",
    "d = max(width, height)\n",
    "factor = d / 4000\n",
    "if factor <= 1: factor = 1\n",
    "\n",
    "small_w = width / factor\n",
    "small_h = height / factor    \n",
    "baseImage = mosaic.resize( (int(small_w), int(small_h)), resample=PIL.Image.LANCZOS )\n",
    "baseImage.save('mosaic-web.jpg')\n",
    "\n",
    "print(\"\")\n",
    "print(\"\")\n",
    "print(f\"MOSAIC COMPLETE!\")\n",
    "print(\"- See `mosaic-hq.jpg` to see your HQ moasic! (The file may be HUGE.)\")\n",
    "print(\"- See `mosaic.jpg` to see a moasic best suited for the web (still big, but not HUGE)!\")"
   ]
  }
 ],
 "metadata": {
  "interpreter": {
   "hash": "aee8b7b246df8f9039afb4144a1f6fd8d2ca17a180786b69acc140d282b71a49"
  },
  "kernelspec": {
   "display_name": "Python 3.10.2 64-bit",
   "language": "python",
   "name": "python3"
  },
  "language_info": {
   "codemirror_mode": {
    "name": "ipython",
    "version": 3
   },
   "file_extension": ".py",
   "mimetype": "text/x-python",
   "name": "python",
   "nbconvert_exporter": "python",
   "pygments_lexer": "ipython3",
   "version": "3.10.2"
  },
  "orig_nbformat": 4
 },
 "nbformat": 4,
 "nbformat_minor": 2
}
